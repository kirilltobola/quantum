{
 "cells": [
  {
   "cell_type": "markdown",
   "id": "38d5b359",
   "metadata": {},
   "source": [
    "# Квантовая телепортация\n",
    "\n",
    "**Квантовая телепортация - перенос состояния с одного кубита на другой.**\n",
    "\n",
    "Имеем: \n",
    "$\n",
    "\\begin{cases}\n",
    "    |\\psi_1\\psi_2\\rangle = \\frac{1}{\\sqrt{2}} * |00\\rangle + \\frac{1}{\\sqrt{2}} * |11\\rangle \\\\\n",
    "    |\\varphi\\rangle = \\alpha|0\\rangle + \\beta|1\\rangle \\\\\n",
    "    |\\varphi \\psi_1 \\psi_2 \\rangle = |\\varphi\\rangle \\otimes |\\psi_1 \\psi_2 \\rangle\n",
    "\\end{cases}\n",
    "$\n",
    "\n",
    "* Зацепленная пара: $ |\\psi_1\\psi_2\\rangle $\n",
    "\n",
    "* Телепортируемый кубит:  $ |\\varphi\\rangle $\n",
    "\n",
    "* Операция $ \\otimes $ - <a href=\"https://ru.wikipedia.org/wiki/%D0%9F%D1%80%D0%BE%D0%B8%D0%B7%D0%B2%D0%B5%D0%B4%D0%B5%D0%BD%D0%B8%D0%B5_%D0%9A%D1%80%D0%BE%D0%BD%D0%B5%D0%BA%D0%B5%D1%80%D0%B0\">Произведение Кронекера</a>.\n"
   ]
  },
  {
   "cell_type": "markdown",
   "id": "b9d2cfda",
   "metadata": {},
   "source": [
    "# Алгоритм"
   ]
  },
  {
   "cell_type": "markdown",
   "id": "74c4e7fc",
   "metadata": {},
   "source": [
    "## Шаг 0.\n",
    "$ |\\varphi \\rangle \\otimes |\\psi_1 \\psi_2 \\rangle = \\begin{pmatrix} \\alpha \\\\ \\beta \\end{pmatrix} \\otimes \\frac{1}{\\sqrt{2}} \\begin{pmatrix} 1 \\\\ 0 \\\\ 0 \\\\ 1 \\end{pmatrix} = \\frac{1}{\\sqrt{2}} \\begin{pmatrix} \\alpha \\\\ 0 \\\\ 0 \\\\ \\alpha \\\\ \\beta \\\\ 0 \\\\ 0 \\\\ \\beta \\end{pmatrix} = \\frac{1}{\\sqrt{2}} |\\chi_0 \\rangle $"
   ]
  },
  {
   "cell_type": "markdown",
   "id": "805dca27",
   "metadata": {},
   "source": [
    "## Шаг 1.\n",
    "\n",
    "\n",
    "$ C_{not} = \\begin{pmatrix} 1&0&0&0 \\\\ 0&1&0&0 \\\\ 0&0&0&1 \\\\ 0&0&1&0 \\end{pmatrix} $\n",
    "\n",
    "$ I = \\begin{pmatrix} 1&0 \\\\ 0&1 \\end{pmatrix} $\n",
    "\n",
    "$ C_{not} \\otimes I =  \\begin{pmatrix} 1&0&0&0 \\\\ 0&1&0&0 \\\\ 0&0&0&1 \\\\ 0&0&1&0 \\end{pmatrix} \\otimes \\begin{pmatrix} 1& 0 \\\\ 0& 1 \\end{pmatrix} = \\begin{pmatrix} 1&0&0&0&0&0&0&0 \\\\ 0&1&0&0&0&0&0&0 \\\\ 0&0&1&0&0&0&0&0 \\\\ 0&0&0&1&0&0&0&0 \\\\ 0&0&0&0&0&0&1&0 \\\\ 0&0&0&0&0&0&0&1 \\\\ 0&0&0&0&1&0&0&0 \\\\ 0&0&0&0&0&1&0&0  \\end{pmatrix}$\n",
    "\n",
    "\n",
    "$\n",
    "|\\chi_1\\rangle = C_{not} \\otimes I(\\chi_0) = \\begin{pmatrix} \\alpha \\\\ 0 \\\\ 0 \\\\ \\alpha \\\\ 0 \\\\ \\beta \\\\ \\beta \\\\ 0\\end{pmatrix}\n",
    "$\n"
   ]
  },
  {
   "cell_type": "markdown",
   "id": "cb95800a",
   "metadata": {},
   "source": [
    "## Шаг 2.\n",
    "$ H = \\frac{1}{\\sqrt{2}} \\begin{pmatrix} 1&1 \\\\ 1&-1 \\end{pmatrix} $\n",
    "\n",
    "$ X = \\begin{pmatrix} 0&1 \\\\ 1&0 \\end{pmatrix} $\n",
    "\n",
    "$ Z = \\begin{pmatrix} 1&0 \\\\ 0&-1 \\end{pmatrix} $\n",
    "\n",
    "$ Y = \\begin{pmatrix} 0&-i \\\\ i&0 \\end{pmatrix} $\n",
    "\n",
    "$ |\\chi_2 \\rangle = H \\otimes I \\otimes I(\\chi_1) = \\begin{pmatrix} \\alpha \\\\ \\beta \\\\ \\beta \\\\ \\alpha \\\\ \\alpha \\\\ -\\beta \\\\ -\\beta \\\\ \\alpha \\end{pmatrix}$\n",
    "\n",
    "$ |\\chi_2\\rangle = \n",
    "\\begin{pmatrix} \\alpha \\\\ \\beta \\\\ 0 \\\\ 0 \\\\ 0 \\\\ 0 \\\\ 0 \\\\ 0 \\end{pmatrix} +\n",
    "\\begin{pmatrix} 0 \\\\ 0 \\\\ \\beta \\\\ \\alpha \\\\ 0 \\\\ 0 \\\\ 0 \\\\ 0 \\end{pmatrix} +\n",
    "\\begin{pmatrix} 0 \\\\ 0 \\\\ 0 \\\\ 0 \\\\ \\alpha \\\\ -\\beta \\\\ 0 \\\\ 0 \\end{pmatrix} +\n",
    "\\begin{pmatrix} \\alpha \\\\ \\beta \\\\ 0 \\\\ 0 \\\\ 0 \\\\ 0 \\\\ -\\beta \\\\ \\alpha \\end{pmatrix}\n",
    "=\n",
    "\\begin{pmatrix} 1\\\\0\\\\0\\\\0 \\end{pmatrix} \\otimes \\begin{pmatrix} \\alpha \\\\ \\beta \\end{pmatrix} +\n",
    "\\begin{pmatrix} 0\\\\1\\\\0\\\\0 \\end{pmatrix} \\otimes \\begin{pmatrix} \\beta \\\\ \\alpha \\end{pmatrix} +\n",
    "\\begin{pmatrix} 0\\\\0\\\\1\\\\0 \\end{pmatrix} \\otimes \\begin{pmatrix} \\alpha \\\\ -\\beta \\end{pmatrix} +\n",
    "\\begin{pmatrix} 0\\\\0\\\\0\\\\1 \\end{pmatrix} \\otimes \\begin{pmatrix} -\\beta \\\\ \\alpha \\end{pmatrix} =\n",
    "$\n",
    "\n",
    "$$\n",
    "\\begin{pmatrix} 1\\\\0 \\end{pmatrix} \\otimes \\begin{pmatrix} 1\\\\0 \\end{pmatrix} \\otimes \\begin{pmatrix} \\alpha \\\\ \\beta \\end{pmatrix} + \n",
    "\\begin{pmatrix} 1\\\\0 \\end{pmatrix} \\otimes \\begin{pmatrix} 0\\\\1 \\end{pmatrix} \\otimes \\begin{pmatrix} \\beta \\\\ \\alpha \\end{pmatrix} + \n",
    "\\begin{pmatrix} 0\\\\1 \\end{pmatrix} \\otimes \\begin{pmatrix} 1\\\\0 \\end{pmatrix} \\otimes \\begin{pmatrix} \\alpha \\\\ -\\beta \\end{pmatrix} + \n",
    "\\begin{pmatrix} 0\\\\1 \\end{pmatrix} \\otimes \\begin{pmatrix} 0\\\\1 \\end{pmatrix} \\otimes \\begin{pmatrix} -\\beta \\\\ \\alpha \\end{pmatrix} = \n",
    "$$\n",
    "\n",
    "$$\n",
    "|00\\rangle \\otimes \\begin{pmatrix} \\alpha \\\\ \\beta \\end{pmatrix} + \n",
    "|01\\rangle \\otimes \\begin{pmatrix} \\beta \\\\ \\alpha \\end{pmatrix} +\n",
    "|10\\rangle \\otimes \\begin{pmatrix} \\alpha \\\\ -\\beta \\end{pmatrix} +\n",
    "|11\\rangle \\otimes \\begin{pmatrix} -\\beta \\\\ \\alpha \\end{pmatrix} \n",
    "$$\n",
    "\n",
    "### Таким образом получили, что если:\n",
    "* $ |00\\rangle $ то $ I \\begin{pmatrix} \\alpha \\\\ \\beta \\end{pmatrix} = \\begin{pmatrix} \\alpha \\\\ \\beta \\end{pmatrix} $\n",
    "* $ |01\\rangle $ то $ X \\begin{pmatrix} \\beta \\\\ \\alpha \\end{pmatrix} = \\begin{pmatrix} \\alpha \\\\ \\beta \\end{pmatrix} $\n",
    "* $ |10\\rangle $ то $ Z \\begin{pmatrix} \\alpha \\\\ -\\beta \\end{pmatrix} = \\begin{pmatrix} \\alpha \\\\ \\beta \\end{pmatrix} $\n",
    "* $ |11\\rangle $ то $ Y \\begin{pmatrix} -\\beta \\\\ \\alpha \\end{pmatrix} = \\begin{pmatrix} \\alpha \\\\ \\beta \\end{pmatrix} $\n"
   ]
  },
  {
   "cell_type": "markdown",
   "id": "0c3fb32c",
   "metadata": {},
   "source": [
    "## Измерение\n",
    "\n",
    "\n",
    "$\n",
    "\\begin{array} {|r|r|}\\hline x & y & z & f \\\\ \\hline 0 & 0 & 0 & \\alpha_0 \\\\ \\hline 0 & 0 & 1 & \\alpha_1 \\\\ \\hline 0 & 1 & 0 & \\alpha_2 \\\\ \\hline 0 & 1 & 1 & \\alpha_3 \\\\ \\hline 1 & 0 & 0 & \\alpha_4 \\\\ \\hline 1 & 0 & 1 & \\alpha_5 \\\\ \\hline 1 & 1 & 0 & \\alpha_6 \\\\ \\hline 1 & 1 & 1 & \\alpha_7 \\\\ \\hline  \\end{array}\n",
    "$\n",
    "\n",
    "$ \\mathcal{f} = |...\\rangle $ - вектор столбец\n",
    "\n",
    "$ \\mathcal{f}^{*} = |...\\rangle $ - вектор строка\n",
    "\n",
    "**Вероятность того, что x = 0:**\n",
    "\n",
    "$\n",
    "(\\alpha_0^* \\alpha_1^* \\alpha_2^* \\alpha_3^* \\alpha_4^* \\alpha_5^* \\alpha_6^* \\alpha_7^*) \\cdot \n",
    "\\begin{pmatrix} \\begin{pmatrix} 1& \\\\ &1 \\\\ &&1 \\\\ &&&1 \\end{pmatrix} &0 \\\\ 0 &0 \\end{pmatrix} \\cdot\n",
    "\\begin{pmatrix} \\alpha_0 \\\\ \\alpha_1 \\\\ \\alpha_3 \\\\ \\alpha_4 \\\\ \\alpha_5 \\\\ \\alpha_6 \\\\ \\alpha_7  \\end{pmatrix} =\n",
    "|\\alpha_0|^2 + |\\alpha_1|^2 + |\\alpha_2|^2 + |\\alpha_3|^2 \n",
    "$\n"
   ]
  },
  {
   "cell_type": "markdown",
   "id": "a417579d",
   "metadata": {},
   "source": [
    "### Шаг 3.\n",
    "\n",
    "$\n",
    "\\begin{array} {|r|r|}\\hline \\varphi & \\psi_1 & \\psi_2 & \\chi_2 \\\\ \\hline 0 & 0 & 0 & \\alpha \\\\ \\hline 0 & 0 & 1 & \\beta \\\\ \\hline 0 & 1 & 0 & \\beta \\\\ \\hline 0 & 1 & 1 & \\alpha \\\\ \\hline 1 & 0 & 0 & \\alpha \\\\ \\hline 1 & 0 & 1 & -\\beta \\\\ \\hline 1 & 1 & 0 & -\\beta \\\\ \\hline 1 & 1 & 1 & \\alpha \\\\ \\hline  \\end{array}\n",
    "$\n",
    "\n",
    "\n",
    "Вероятность того, что:\n",
    "\n",
    "* $ (\\varphi=0 $ и $ \\psi_1=0) = |\\alpha|^2 + |\\beta|^2 \\rightarrow \\psi_2 = \\begin{pmatrix} \\alpha \\\\ \\beta \\end{pmatrix};$ и тогда применим $ I(\\psi_2) $\n",
    "\n",
    "* $ (\\varphi = 0 $ и $ \\psi_1 = 1) = |\\beta|^2 + |\\alpha|^2 \\rightarrow \\psi_2 = \\begin{pmatrix} \\beta \\\\ \\alpha \\end{pmatrix};$ и тогда применим $ X(\\psi_2) $\n",
    "\n",
    "* $ (\\varphi = 1 $ и $ \\psi_1 = 0) = |\\alpha|^2 + |-\\beta|^2 \\rightarrow \\psi_2 = \\begin{pmatrix} \\alpha \\\\ -\\beta \\end{pmatrix};$ и тогда применим $ Z(\\psi_2) $\n",
    "\n",
    "* $ (\\varphi = 1 $ и $ \\psi_1 = 1) = |-\\beta|^2 + |\\alpha|^2 \\rightarrow \\psi_2 = \\begin{pmatrix} -\\beta \\\\ \\alpha \\end{pmatrix};$ и тогда применим $ Y(\\psi_2) $\n"
   ]
  },
  {
   "cell_type": "markdown",
   "id": "8a0a06a7",
   "metadata": {},
   "source": [
    "# Вывод\n",
    "\n",
    "Таким образом, состояние кубита $ \\varphi $ было перенесено на кубит $ \\psi_2 $. \n",
    "\n",
    "При этом в процессе алгоритма, кубит $ \\varphi $ потерял свое оригинальное состояние (при измерении).\n"
   ]
  },
  {
   "cell_type": "markdown",
   "id": "01004969",
   "metadata": {},
   "source": [
    "# Пример квантовой телепортации на языке Q# :"
   ]
  },
  {
   "cell_type": "code",
   "execution_count": 4,
   "id": "07e6b4e6",
   "metadata": {
    "collapsed": true
   },
   "outputs": [
    {
     "data": {
      "application/x-qsharp-data": "[]",
      "text/html": [
       "<ul></ul>"
      ],
      "text/plain": []
     },
     "execution_count": 4,
     "metadata": {},
     "output_type": "execute_result"
    }
   ],
   "source": [
    "open Microsoft.Quantum.Measurement;"
   ]
  },
  {
   "cell_type": "code",
   "execution_count": 104,
   "id": "46065372",
   "metadata": {
    "collapsed": true
   },
   "outputs": [
    {
     "data": {
      "application/x-qsharp-data": "[\"FinalMeasure\"]",
      "text/html": [
       "<ul><li>FinalMeasure</li></ul>"
      ],
      "text/plain": [
       "FinalMeasure"
      ]
     },
     "execution_count": 104,
     "metadata": {},
     "output_type": "execute_result"
    }
   ],
   "source": [
    "operation FinalMeasure(phi : Qubit, psi_1 : Qubit, psi_2 : Qubit) : Unit {\n",
    "    if (M(phi) == One) {\n",
    "        if (M(psi_2) == One) {\n",
    "            Y(psi_1);\n",
    "        } else {\n",
    "            Z(psi_1);\n",
    "        }\n",
    "    } else {\n",
    "        if (M(psi_2) == One) {\n",
    "            X(psi_1);\n",
    "        }\n",
    "    }\n",
    "    \n",
    "    Reset(psi_1);\n",
    "}"
   ]
  },
  {
   "cell_type": "code",
   "execution_count": 21,
   "id": "d2fde029",
   "metadata": {
    "collapsed": true
   },
   "outputs": [
    {
     "data": {
      "application/x-qsharp-data": "[\"CreateEntagledPair\"]",
      "text/html": [
       "<ul><li>CreateEntagledPair</li></ul>"
      ],
      "text/plain": [
       "CreateEntagledPair"
      ]
     },
     "execution_count": 21,
     "metadata": {},
     "output_type": "execute_result"
    }
   ],
   "source": [
    "operation CreateEntagledPair(first : Qubit, second : Qubit) : Unit {\n",
    "    H(first);\n",
    "    CNOT(first, second);\n",
    "}"
   ]
  },
  {
   "cell_type": "code",
   "execution_count": 7,
   "id": "393a85ec",
   "metadata": {},
   "outputs": [],
   "source": [
    "operation Preparation(phi : Qubit, psi_1 : Qubit, psi_2 : Qubit) : Unit {\n",
    "    H(phi);\n",
    "    CreateEntagledPair(psi_1, psi_2);\n",
    "}"
   ]
  },
  {
   "cell_type": "code",
   "execution_count": 8,
   "id": "698b6339",
   "metadata": {
    "collapsed": true
   },
   "outputs": [
    {
     "data": {
      "application/x-qsharp-data": "[\"Teleport\"]",
      "text/html": [
       "<ul><li>Teleport</li></ul>"
      ],
      "text/plain": [
       "Teleport"
      ]
     },
     "execution_count": 8,
     "metadata": {},
     "output_type": "execute_result"
    }
   ],
   "source": [
    "operation Teleport(phi : Qubit, psi_1 : Qubit, psi_2 : Qubit) : Unit {\n",
    "    CNOT(phi, psi_1);\n",
    "    H(phi);\n",
    "    \n",
    "    FinalMeasure(phi, psi_1, psi_2);\n",
    "}"
   ]
  },
  {
   "cell_type": "code",
   "execution_count": 9,
   "id": "fd9ace8a",
   "metadata": {
    "collapsed": true
   },
   "outputs": [
    {
     "data": {
      "application/x-qsharp-data": "[\"RunTeleport\"]",
      "text/html": [
       "<ul><li>RunTeleport</li></ul>"
      ],
      "text/plain": [
       "RunTeleport"
      ]
     },
     "execution_count": 9,
     "metadata": {},
     "output_type": "execute_result"
    }
   ],
   "source": [
    "operation RunTeleport() : Result {\n",
    "    use qbits = Qubit[3];\n",
    "    let phi = qbits[0];\n",
    "    let psi_1 = qbits[1];\n",
    "    let psi_2 = qbits[2];\n",
    "    \n",
    "    Preparation(phi, psi_1, psi_2);\n",
    "    Teleport(phi, psi_1, psi_2);\n",
    "    let result = M(psi_2);\n",
    "    \n",
    "    ResetAll([phi, psi_2]);\n",
    "    return result;\n",
    "}"
   ]
  },
  {
   "cell_type": "code",
   "execution_count": 117,
   "id": "fcfaed06",
   "metadata": {},
   "outputs": [
    {
     "data": {
      "application/x-qsharp-data": "1",
      "text/plain": [
       "One"
      ]
     },
     "execution_count": 117,
     "metadata": {},
     "output_type": "execute_result"
    }
   ],
   "source": [
    "%simulate RunTeleport"
   ]
  }
 ],
 "metadata": {
  "celltoolbar": "Необработанный формат ячейки",
  "kernelspec": {
   "display_name": "Q#",
   "language": "qsharp",
   "name": "iqsharp"
  },
  "language_info": {
   "file_extension": ".qs",
   "mimetype": "text/x-qsharp",
   "name": "qsharp",
   "version": "0.14"
  }
 },
 "nbformat": 4,
 "nbformat_minor": 5
}
